{
 "cells": [
  {
   "cell_type": "markdown",
   "metadata": {},
   "source": [
    "**1. Import pandas as pd:** This provides data structures like DataFrames and Series that are used to handle and analyze structured data efficiently.\n",
    "\n",
    "**2. Import matplotlib.pyplot as plt:** This library is used for creating static, interactive, and animated visualizations in Python.\n",
    "\n",
    "**3. Import seaborn as sns:** This library is built on top of matplotlib and provides a high-level interface for creating statistical graphics. It includes advanced features like heatmaps, pair plots, and regression plots.\n",
    "\n",
    "**4. From sklearn.model_selection import train_test_split:** This function splits the data into training and testing sets, which is essential for evaluating the performance of machine learning models.\n",
    "\n",
    "**5. From sklearn.ensemble import RandomForestRegressor:** This is a popular machine learning algorithm for regression tasks. It creates a forest of decision trees, where each tree is trained on a different subset of the data. Random ForestRegressor provides a robust and accurate prediction model.\n",
    "\n",
    "**6. From sklearn.metrics import mean_squared_error:** This function calculates the mean squared error (MSE) between the predicted values and the actual values. MSE is a common metric for evaluating regression models."
   ]
  },
  {
   "cell_type": "code",
   "execution_count": null,
   "metadata": {},
   "outputs": [],
   "source": [
    "# Import necessary libraries\n",
    "import pandas as pd\n",
    "import matplotlib.pyplot as plt\n",
    "import seaborn as sns\n",
    "from sklearn.model_selection import train_test_split\n",
    "from sklearn.ensemble import RandomForestRegressor\n",
    "from sklearn.metrics import mean_squared_error\n",
    "\n",
    "# Load the data from the CSV file into a pandas DataFrame\n",
    "\n",
    "data = pd.read_csv(file_path, encoding='ISO-8859-1') # IDE encoding to handle non-ASCII characters in the CSV file\n",
    "# Specifying this encoding is useful when the CSV file contains special characters or non-ASCII characters that are common in Western European languages. Using the correct encoding ensures that these characters are read and interpreted correctly by pandas.\n",
    "# In this case, the VS Code editor did not recognize the encoding 'ISO-8859-1' by default, so it was important to specify it when loading the data."
   ]
  },
  {
   "cell_type": "markdown",
   "metadata": {},
   "source": [
    "A *try* block is used to handle exceptions that may occur during the execution of a block of code. \n",
    "\n",
    "In this context, the *try* block is used to attempt to execute the code that involves loading and processing the *CSV* files. \n",
    "\n",
    "If an exception occurs during this process, the except block will be executed, and the error message will be printed."
   ]
  },
  {
   "cell_type": "code",
   "execution_count": 26,
   "metadata": {},
   "outputs": [],
   "source": [
    "#Starting the try block to handle missing files\n",
    "try:\n",
    "    pass  # Placeholder for starting the try block\n",
    "except FileNotFoundError:\n",
    "    # Handling case where the file is not found\n",
    "    print(f\"File not found: {file_path}\")"
   ]
  },
  {
   "cell_type": "markdown",
   "metadata": {},
   "source": [
    "**Enter file Paths:** The list contains eight file paths, each pointing to a different CSV file located in the local directory. The filenames indicate that these files contain data related to various measures and star ratings for the year 2024 for healthcare insurance analysis."
   ]
  },
  {
   "cell_type": "code",
   "execution_count": 27,
   "metadata": {},
   "outputs": [],
   "source": [
    "# List of file paths to CSV files to be processed\n",
    "file_paths = [\n",
    "    r'C:\\Users\\m_jad\\OneDrive\\Desktop\\The Work Folder\\Alight\\Analysis\\2024_HEDIS_Under_500_Display_11_13_2023.csv',\n",
    "    r'C:\\Users\\m_jad\\OneDrive\\Desktop\\The Work Folder\\Alight\\Analysis\\2024_HPMS_Display_Measures.csv',\n",
    "    r'C:\\Users\\m_jad\\OneDrive\\Desktop\\The Work Folder\\Alight\\Analysis\\2024_HPMS_Display_Measures_12_14_2023.csv',\n",
    "    r'C:\\Users\\m_jad\\OneDrive\\Desktop\\The Work Folder\\Alight\\Analysis\\2024_MAPD_Part D_Measures.csv',\n",
    "    r'C:\\Users\\m_jad\\OneDrive\\Desktop\\The Work Folder\\Alight\\Analysis\\2024_Part C_Measures.csv',\n",
    "    r'C:\\Users\\m_jad\\OneDrive\\Desktop\\The Work Folder\\Alight\\Analysis\\2024_Part C_Star_Averages.csv',\n",
    "    r'C:\\Users\\m_jad\\OneDrive\\Desktop\\The Work Folder\\Alight\\Analysis\\2024_Part D_Measures.csv',\n",
    "    r'C:\\Users\\m_jad\\OneDrive\\Desktop\\The Work Folder\\Alight\\Analysis\\2024_Part D_Star_Averages.csv'\n",
    "]"
   ]
  },
  {
   "cell_type": "markdown",
   "metadata": {},
   "source": [
    "Loop through file paths: The code iterates over a list of file paths stored in *file_paths* and prints the file path being processed."
   ]
  },
  {
   "cell_type": "code",
   "execution_count": null,
   "metadata": {},
   "outputs": [
    {
     "name": "stdout",
     "output_type": "stream",
     "text": [
      "Processing file: C:\\Users\\m_jad\\OneDrive\\Desktop\\The Work Folder\\Alight\\Analysis\\2024_HEDIS_Under_500_Display_11_13_2023.csv\n",
      "Processing file: C:\\Users\\m_jad\\OneDrive\\Desktop\\The Work Folder\\Alight\\Analysis\\2024_HPMS_Display_Measures.csv\n",
      "Processing file: C:\\Users\\m_jad\\OneDrive\\Desktop\\The Work Folder\\Alight\\Analysis\\2024_HPMS_Display_Measures_12_14_2023.csv\n",
      "Processing file: C:\\Users\\m_jad\\OneDrive\\Desktop\\The Work Folder\\Alight\\Analysis\\2024_MAPD_Part D_Measures.csv\n",
      "Processing file: C:\\Users\\m_jad\\OneDrive\\Desktop\\The Work Folder\\Alight\\Analysis\\2024_Part C_Measures.csv\n",
      "Processing file: C:\\Users\\m_jad\\OneDrive\\Desktop\\The Work Folder\\Alight\\Analysis\\2024_Part C_Star_Averages.csv\n",
      "Processing file: C:\\Users\\m_jad\\OneDrive\\Desktop\\The Work Folder\\Alight\\Analysis\\2024_Part D_Measures.csv\n",
      "Processing file: C:\\Users\\m_jad\\OneDrive\\Desktop\\The Work Folder\\Alight\\Analysis\\2024_Part D_Star_Averages.csv\n"
     ]
    }
   ],
   "source": [
    "# Processing each file in the file_paths list\n",
    "for file_path in file_paths:\n",
    "    print(f\"Processing file: {file_path}\")\n",
    "try:\n",
    "    pass  # Placeholder for starting the try block#+\n",
    "except FileNotFoundError:\n",
    "    print(f\"File not found: {file_path}\")\n",
    "      "
   ]
  },
  {
   "cell_type": "markdown",
   "metadata": {},
   "source": [
    "The code block below is part of a *try* block that processes *CSV* files containing data related to Medicare Star Ratings. Here's a breakdown of what each part of the selected code does:\n",
    "\n",
    "**1. Loading Data:** This line reads a *CSV* file specified by file_path into a pandas DataFrame named data. The encoding ISO-8859-1 is used to handle special characters that might be present in the file.\n",
    "\n",
    "**2. Previewing Data:** This prints the first few rows of the DataFrame to verify that the data has been loaded correctly.\n",
    "\n",
    "**3. Basic Information:** This line prints information about the DataFrame, such as the number of rows and columns, data types, and memory usage.\n",
    "\n",
    "**4. Summary Statistics:** This line calculates and prints summary statistics for the DataFrame, including count, mean, standard deviation, minimum, maximum, and quartile values.\n",
    "\n",
    "**5. Missing Values:** This line calculates and prints the number of missing values in each column of the DataFrame,  helping to identify columns that may need cleaning or imputation.\n",
    "\n",
    "**6. Column Names:** This line prints the names of the columns in the DataFrame, which can be useful for cleaning or renaming columns as needed.\n",
    "\n",
    "**7. Cleaning Column Names:** This line uses the str.strip() method to remove any leading or trailing whitespace from the column names in the DataFrame. This ensures that column names are consistently formatted and easier to work with.\n",
    "\n",
    "**8. Star Rating Columns:** This line selects the columns that contain star ratings (columns ending with \"_Star\") and prints their names.\n",
    "\n",
    "**9. Removing Unnamed Columns:** This line removes any columns that have no name (columns with a *NaN* value in the \"Unnamed: 0\" column) from the DataFrame.\n"
   ]
  },
  {
   "cell_type": "markdown",
   "metadata": {},
   "source": []
  },
  {
   "cell_type": "markdown",
   "metadata": {},
   "source": [
    "Previewing the dataset to understand its structure"
   ]
  },
  {
   "cell_type": "code",
   "execution_count": 36,
   "metadata": {},
   "outputs": [
    {
     "data": {
      "text/html": [
       "<div>\n",
       "<style scoped>\n",
       "    .dataframe tbody tr th:only-of-type {\n",
       "        vertical-align: middle;\n",
       "    }\n",
       "\n",
       "    .dataframe tbody tr th {\n",
       "        vertical-align: top;\n",
       "    }\n",
       "\n",
       "    .dataframe thead th {\n",
       "        text-align: right;\n",
       "    }\n",
       "</style>\n",
       "<table border=\"1\" class=\"dataframe\">\n",
       "  <thead>\n",
       "    <tr style=\"text-align: right;\">\n",
       "      <th></th>\n",
       "      <th>Measure ID*</th>\n",
       "      <th>Measure Name</th>\n",
       "      <th>2024 MAPD Star Average</th>\n",
       "      <th>2024 PDP Star Average</th>\n",
       "      <th>Unnamed: 4</th>\n",
       "      <th>This table contains the average of the star values for each measure reported in the 2024 Star Ratings. The averages are calculated after the disaster adjustment has been applied.</th>\n",
       "      <th>Unnamed: 6</th>\n",
       "      <th>Unnamed: 7</th>\n",
       "    </tr>\n",
       "  </thead>\n",
       "  <tbody>\n",
       "    <tr>\n",
       "      <th>0</th>\n",
       "      <td>D01</td>\n",
       "      <td>Call Center  Foreign Language Interpreter and...</td>\n",
       "      <td>4.5</td>\n",
       "      <td>3.6</td>\n",
       "      <td>NaN</td>\n",
       "      <td>NaN</td>\n",
       "      <td>NaN</td>\n",
       "      <td>NaN</td>\n",
       "    </tr>\n",
       "    <tr>\n",
       "      <th>1</th>\n",
       "      <td>D02</td>\n",
       "      <td>Complaints about the Drug Plan</td>\n",
       "      <td>4.1</td>\n",
       "      <td>4.6</td>\n",
       "      <td>NaN</td>\n",
       "      <td>NaN</td>\n",
       "      <td>NaN</td>\n",
       "      <td>NaN</td>\n",
       "    </tr>\n",
       "    <tr>\n",
       "      <th>2</th>\n",
       "      <td>D03</td>\n",
       "      <td>Members Choosing to Leave the Plan</td>\n",
       "      <td>3.6</td>\n",
       "      <td>3.9</td>\n",
       "      <td>NaN</td>\n",
       "      <td>NaN</td>\n",
       "      <td>NaN</td>\n",
       "      <td>NaN</td>\n",
       "    </tr>\n",
       "    <tr>\n",
       "      <th>3</th>\n",
       "      <td>D04</td>\n",
       "      <td>Drug Plan Quality Improvement</td>\n",
       "      <td>3.4</td>\n",
       "      <td>3.0</td>\n",
       "      <td>NaN</td>\n",
       "      <td>NaN</td>\n",
       "      <td>NaN</td>\n",
       "      <td>NaN</td>\n",
       "    </tr>\n",
       "    <tr>\n",
       "      <th>4</th>\n",
       "      <td>D05</td>\n",
       "      <td>Rating of Drug Plan</td>\n",
       "      <td>3.2</td>\n",
       "      <td>3.4</td>\n",
       "      <td>NaN</td>\n",
       "      <td>NaN</td>\n",
       "      <td>NaN</td>\n",
       "      <td>NaN</td>\n",
       "    </tr>\n",
       "  </tbody>\n",
       "</table>\n",
       "</div>"
      ],
      "text/plain": [
       "  Measure ID*                                       Measure Name  \\\n",
       "0         D01  Call Center  Foreign Language Interpreter and...   \n",
       "1         D02                     Complaints about the Drug Plan   \n",
       "2         D03                 Members Choosing to Leave the Plan   \n",
       "3         D04                      Drug Plan Quality Improvement   \n",
       "4         D05                                Rating of Drug Plan   \n",
       "\n",
       "   2024 MAPD Star Average  2024 PDP Star Average  Unnamed: 4  \\\n",
       "0                     4.5                    3.6         NaN   \n",
       "1                     4.1                    4.6         NaN   \n",
       "2                     3.6                    3.9         NaN   \n",
       "3                     3.4                    3.0         NaN   \n",
       "4                     3.2                    3.4         NaN   \n",
       "\n",
       "   This table contains the average of the star values for each measure reported in the 2024 Star Ratings. The averages are calculated after the disaster adjustment has been applied.  \\\n",
       "0                                                NaN                                                                                                                                    \n",
       "1                                                NaN                                                                                                                                    \n",
       "2                                                NaN                                                                                                                                    \n",
       "3                                                NaN                                                                                                                                    \n",
       "4                                                NaN                                                                                                                                    \n",
       "\n",
       "   Unnamed: 6  Unnamed: 7  \n",
       "0         NaN         NaN  \n",
       "1         NaN         NaN  \n",
       "2         NaN         NaN  \n",
       "3         NaN         NaN  \n",
       "4         NaN         NaN  "
      ]
     },
     "metadata": {},
     "output_type": "display_data"
    }
   ],
   "source": [
    "#Previewing the dataset\n",
    "import IPython.display as display\n",
    "display.display(data.head())"
   ]
  },
  {
   "cell_type": "markdown",
   "metadata": {},
   "source": [
    "Getting an overview of the dataset, including column data types and non-null counts"
   ]
  },
  {
   "cell_type": "code",
   "execution_count": 37,
   "metadata": {},
   "outputs": [
    {
     "name": "stdout",
     "output_type": "stream",
     "text": [
      "<class 'pandas.core.frame.DataFrame'>\n",
      "RangeIndex: 27 entries, 0 to 26\n",
      "Data columns (total 8 columns):\n",
      " #   Column                                                                                                                                                                              Non-Null Count  Dtype  \n",
      "---  ------                                                                                                                                                                              --------------  -----  \n",
      " 0   Measure ID*                                                                                                                                                                         12 non-null     object \n",
      " 1   Measure Name                                                                                                                                                                        12 non-null     object \n",
      " 2   2024 MAPD Star Average                                                                                                                                                              12 non-null     float64\n",
      " 3   2024 PDP Star Average                                                                                                                                                               12 non-null     float64\n",
      " 4   Unnamed: 4                                                                                                                                                                          0 non-null      float64\n",
      " 5   This table contains the average of the star values for each measure reported in the 2024 Star Ratings. The averages are calculated after the disaster adjustment has been applied.  0 non-null      float64\n",
      " 6   Unnamed: 6                                                                                                                                                                          0 non-null      float64\n",
      " 7   Unnamed: 7                                                                                                                                                                          0 non-null      float64\n",
      "dtypes: float64(6), object(2)\n",
      "memory usage: 1.8+ KB\n"
     ]
    },
    {
     "data": {
      "text/plain": [
       "None"
      ]
     },
     "metadata": {},
     "output_type": "display_data"
    }
   ],
   "source": [
    "#Basic information about the dataset\n",
    "display.display(data.info())"
   ]
  },
  {
   "cell_type": "markdown",
   "metadata": {},
   "source": [
    "Summary statistics for numerical columns"
   ]
  },
  {
   "cell_type": "code",
   "execution_count": 38,
   "metadata": {},
   "outputs": [
    {
     "data": {
      "text/html": [
       "<div>\n",
       "<style scoped>\n",
       "    .dataframe tbody tr th:only-of-type {\n",
       "        vertical-align: middle;\n",
       "    }\n",
       "\n",
       "    .dataframe tbody tr th {\n",
       "        vertical-align: top;\n",
       "    }\n",
       "\n",
       "    .dataframe thead th {\n",
       "        text-align: right;\n",
       "    }\n",
       "</style>\n",
       "<table border=\"1\" class=\"dataframe\">\n",
       "  <thead>\n",
       "    <tr style=\"text-align: right;\">\n",
       "      <th></th>\n",
       "      <th>2024 MAPD Star Average</th>\n",
       "      <th>2024 PDP Star Average</th>\n",
       "      <th>Unnamed: 4</th>\n",
       "      <th>This table contains the average of the star values for each measure reported in the 2024 Star Ratings. The averages are calculated after the disaster adjustment has been applied.</th>\n",
       "      <th>Unnamed: 6</th>\n",
       "      <th>Unnamed: 7</th>\n",
       "    </tr>\n",
       "  </thead>\n",
       "  <tbody>\n",
       "    <tr>\n",
       "      <th>count</th>\n",
       "      <td>12.000000</td>\n",
       "      <td>12.000000</td>\n",
       "      <td>0.0</td>\n",
       "      <td>0.0</td>\n",
       "      <td>0.0</td>\n",
       "      <td>0.0</td>\n",
       "    </tr>\n",
       "    <tr>\n",
       "      <th>mean</th>\n",
       "      <td>3.508333</td>\n",
       "      <td>3.283333</td>\n",
       "      <td>NaN</td>\n",
       "      <td>NaN</td>\n",
       "      <td>NaN</td>\n",
       "      <td>NaN</td>\n",
       "    </tr>\n",
       "    <tr>\n",
       "      <th>std</th>\n",
       "      <td>0.454189</td>\n",
       "      <td>0.622069</td>\n",
       "      <td>NaN</td>\n",
       "      <td>NaN</td>\n",
       "      <td>NaN</td>\n",
       "      <td>NaN</td>\n",
       "    </tr>\n",
       "    <tr>\n",
       "      <th>min</th>\n",
       "      <td>2.700000</td>\n",
       "      <td>2.400000</td>\n",
       "      <td>NaN</td>\n",
       "      <td>NaN</td>\n",
       "      <td>NaN</td>\n",
       "      <td>NaN</td>\n",
       "    </tr>\n",
       "    <tr>\n",
       "      <th>25%</th>\n",
       "      <td>3.275000</td>\n",
       "      <td>2.900000</td>\n",
       "      <td>NaN</td>\n",
       "      <td>NaN</td>\n",
       "      <td>NaN</td>\n",
       "      <td>NaN</td>\n",
       "    </tr>\n",
       "    <tr>\n",
       "      <th>50%</th>\n",
       "      <td>3.450000</td>\n",
       "      <td>3.300000</td>\n",
       "      <td>NaN</td>\n",
       "      <td>NaN</td>\n",
       "      <td>NaN</td>\n",
       "      <td>NaN</td>\n",
       "    </tr>\n",
       "    <tr>\n",
       "      <th>75%</th>\n",
       "      <td>3.600000</td>\n",
       "      <td>3.600000</td>\n",
       "      <td>NaN</td>\n",
       "      <td>NaN</td>\n",
       "      <td>NaN</td>\n",
       "      <td>NaN</td>\n",
       "    </tr>\n",
       "    <tr>\n",
       "      <th>max</th>\n",
       "      <td>4.500000</td>\n",
       "      <td>4.600000</td>\n",
       "      <td>NaN</td>\n",
       "      <td>NaN</td>\n",
       "      <td>NaN</td>\n",
       "      <td>NaN</td>\n",
       "    </tr>\n",
       "  </tbody>\n",
       "</table>\n",
       "</div>"
      ],
      "text/plain": [
       "       2024 MAPD Star Average  2024 PDP Star Average  Unnamed: 4  \\\n",
       "count               12.000000              12.000000         0.0   \n",
       "mean                 3.508333               3.283333         NaN   \n",
       "std                  0.454189               0.622069         NaN   \n",
       "min                  2.700000               2.400000         NaN   \n",
       "25%                  3.275000               2.900000         NaN   \n",
       "50%                  3.450000               3.300000         NaN   \n",
       "75%                  3.600000               3.600000         NaN   \n",
       "max                  4.500000               4.600000         NaN   \n",
       "\n",
       "       This table contains the average of the star values for each measure reported in the 2024 Star Ratings. The averages are calculated after the disaster adjustment has been applied.  \\\n",
       "count                                                0.0                                                                                                                                    \n",
       "mean                                                 NaN                                                                                                                                    \n",
       "std                                                  NaN                                                                                                                                    \n",
       "min                                                  NaN                                                                                                                                    \n",
       "25%                                                  NaN                                                                                                                                    \n",
       "50%                                                  NaN                                                                                                                                    \n",
       "75%                                                  NaN                                                                                                                                    \n",
       "max                                                  NaN                                                                                                                                    \n",
       "\n",
       "       Unnamed: 6  Unnamed: 7  \n",
       "count         0.0         0.0  \n",
       "mean          NaN         NaN  \n",
       "std           NaN         NaN  \n",
       "min           NaN         NaN  \n",
       "25%           NaN         NaN  \n",
       "50%           NaN         NaN  \n",
       "75%           NaN         NaN  \n",
       "max           NaN         NaN  "
      ]
     },
     "metadata": {},
     "output_type": "display_data"
    }
   ],
   "source": [
    "#Displaying summary statistics\n",
    "display.display(data.describe())"
   ]
  },
  {
   "cell_type": "markdown",
   "metadata": {},
   "source": [
    "Checking for any missing values in the dataset"
   ]
  },
  {
   "cell_type": "code",
   "execution_count": 39,
   "metadata": {},
   "outputs": [
    {
     "data": {
      "text/plain": [
       "Measure ID*                                                                                                                                                                           15\n",
       "Measure Name                                                                                                                                                                          15\n",
       "2024 MAPD Star Average                                                                                                                                                                15\n",
       "2024 PDP Star Average                                                                                                                                                                 15\n",
       "Unnamed: 4                                                                                                                                                                            27\n",
       "This table contains the average of the star values for each measure reported in the 2024 Star Ratings. The averages are calculated after the disaster adjustment has been applied.    27\n",
       "Unnamed: 6                                                                                                                                                                            27\n",
       "Unnamed: 7                                                                                                                                                                            27\n",
       "dtype: int64"
      ]
     },
     "metadata": {},
     "output_type": "display_data"
    }
   ],
   "source": [
    "#Check for missing values\n",
    "display.display(data.isnull().sum())"
   ]
  },
  {
   "cell_type": "markdown",
   "metadata": {},
   "source": [
    "Listing all column names"
   ]
  },
  {
   "cell_type": "code",
   "execution_count": 40,
   "metadata": {},
   "outputs": [
    {
     "name": "stdout",
     "output_type": "stream",
     "text": [
      "Column names: Index(['Measure ID*', 'Measure Name', '2024 MAPD Star Average',\n",
      "       '2024 PDP Star Average', 'Unnamed: 4',\n",
      "       'This table contains the average of the star values for each measure reported in the 2024 Star Ratings. The averages are calculated after the disaster adjustment has been applied.',\n",
      "       'Unnamed: 6', 'Unnamed: 7'],\n",
      "      dtype='object')\n"
     ]
    }
   ],
   "source": [
    "#Checking column names\n",
    "print(\"Column names:\", data.columns)"
   ]
  },
  {
   "cell_type": "markdown",
   "metadata": {},
   "source": [
    "Cleaning up column names by stripping whitespace"
   ]
  },
  {
   "cell_type": "code",
   "execution_count": 41,
   "metadata": {},
   "outputs": [],
   "source": [
    "# Clean up column names\n",
    "data.columns = data.columns.str.strip()"
   ]
  },
  {
   "cell_type": "markdown",
   "metadata": {},
   "source": [
    "Defining the columns related to star ratings for analysis"
   ]
  },
  {
   "cell_type": "code",
   "execution_count": 42,
   "metadata": {},
   "outputs": [],
   "source": [
    "#Define star rating columns\n",
    "star_rating_columns = ['2024 Star Average', '2024 MAPD Star Average', '2024 PDP Star Average']"
   ]
  },
  {
   "cell_type": "markdown",
   "metadata": {},
   "source": [
    "Dropping columns with all missing values"
   ]
  },
  {
   "cell_type": "code",
   "execution_count": 43,
   "metadata": {},
   "outputs": [],
   "source": [
    "#Remove columns that are entirely unnamed\n",
    "data_cleaned = data.dropna(axis=1, how='all')"
   ]
  },
  {
   "cell_type": "markdown",
   "metadata": {},
   "source": [
    "Plotting distributions for star rating columns if they exist"
   ]
  },
  {
   "cell_type": "code",
   "execution_count": 44,
   "metadata": {},
   "outputs": [
    {
     "name": "stdout",
     "output_type": "stream",
     "text": [
      "Column '2024 Star Average' not found in the data.\n"
     ]
    },
    {
     "name": "stderr",
     "output_type": "stream",
     "text": [
      "C:\\Users\\m_jad\\AppData\\Local\\Temp\\ipykernel_8068\\2273960671.py:5: FutureWarning: \n",
      "\n",
      "Passing `palette` without assigning `hue` is deprecated and will be removed in v0.14.0. Assign the `x` variable to `hue` and set `legend=False` for the same effect.\n",
      "\n",
      "  sns.countplot(x=column, data=data, palette=\"Blues\")\n"
     ]
    },
    {
     "data": {
      "image/png": "[encoded data removed]",
      "text/plain": [
       "<Figure size 1000x600 with 1 Axes>"
      ]
     },
     "metadata": {},
     "output_type": "display_data"
    },
    {
     "name": "stderr",
     "output_type": "stream",
     "text": [
      "C:\\Users\\m_jad\\AppData\\Local\\Temp\\ipykernel_8068\\2273960671.py:5: FutureWarning: \n",
      "\n",
      "Passing `palette` without assigning `hue` is deprecated and will be removed in v0.14.0. Assign the `x` variable to `hue` and set `legend=False` for the same effect.\n",
      "\n",
      "  sns.countplot(x=column, data=data, palette=\"Blues\")\n"
     ]
    },
    {
     "data": {
      "image/png": "[encoded data removed]",
      "text/plain": [
       "<Figure size 1000x600 with 1 Axes>"
      ]
     },
     "metadata": {},
     "output_type": "display_data"
    }
   ],
   "source": [
    "#Plotting distributions\n",
    "for column in star_rating_columns:\n",
    "    if column in data.columns:\n",
    "                plt.figure(figsize=(10, 6))\n",
    "                sns.countplot(x=column, data=data, palette=\"Blues\")\n",
    "                plt.title(f'Distribution of {column} for {file_path}')\n",
    "                plt.show()\n",
    "    else:\n",
    "                print(f\"Column '{column}' not found in the data.\")\n",
    "\n",
    "    "
   ]
  },
  {
   "cell_type": "markdown",
   "metadata": {},
   "source": [
    "Using a Random Forest Regressor to predict Medicare Star Ratings"
   ]
  },
  {
   "cell_type": "code",
   "execution_count": 45,
   "metadata": {},
   "outputs": [],
   "source": [
    "#Predict Medicare Star Ratings\n",
    "# Ensure the correct column name is used for the target\n",
    "if '2024 Star Average' in data.columns:\n",
    "    # Select features and target\n",
    "    measures = ['Feature1', 'Feature2', 'Feature3']  # Replace with actual feature column names\n",
    "    features = data[measures]\n",
    "    target = data['2024 Star Average']\n",
    "\n",
    "    # Split the data\n",
    "    X_train, X_test, y_train, y_test = train_test_split(features, target, test_size=0.3, random_state=42)\n",
    "\n",
    "    # Train the model\n",
    "    model = RandomForestRegressor()\n",
    "    model.fit(X_train, y_train)\n",
    "\n",
    "    # Make predictions and evaluate\n",
    "    y_pred = model.predict(X_test)\n",
    "    rmse = mean_squared_error(y_test, y_pred, squared=False)\n",
    "    print(f'RMSE: {rmse}')"
   ]
  }
 ],
 "metadata": {
  "kernelspec": {
   "display_name": ".venv",
   "language": "python",
   "name": "python3"
  },
  "language_info": {
   "codemirror_mode": {
    "name": "ipython",
    "version": 3
   },
   "file_extension": ".py",
   "mimetype": "text/x-python",
   "name": "python",
   "nbconvert_exporter": "python",
   "pygments_lexer": "ipython3",
   "version": "3.12.6"
  }
 },
 "nbformat": 4,
 "nbformat_minor": 2
}
