{
 "cells": [
  {
   "cell_type": "markdown",
   "id": "f85a80d2",
   "metadata": {},
   "source": [
    "## Basic Python - Project <a id='intro'></a>"
   ]
  },
  {
   "cell_type": "markdown",
   "id": "a1262df4",
   "metadata": {},
   "source": [
    "## Introduction <a id='intro'></a>\n",
    "In this project, you will work with data from the entertainment industry. You will study a dataset with records on movies and shows. The research will focus on the \"Golden Age\" of television, which began in 1999 with the release of *The Sopranos* and is still ongoing.\n",
    "\n",
    "The aim of this project is to investigate how the number of votes a title receives impacts its ratings. The assumption is that highly-rated shows (we will focus on TV shows, ignoring movies) released during the \"Golden Age\" of television also have the most votes.\n",
    "\n",
    "### Stages \n",
    "Data on movies and shows is stored in the `/datasets/movies_and_shows.csv` file. There is no information about the quality of the data, so you will need to explore it before doing the analysis.\n",
    "\n",
    "First, you'll evaluate the quality of the data and see whether its issues are significant. Then, during data preprocessing, you will try to account for the most critical problems.\n",
    " \n",
    "Your project will consist of three stages:\n",
    " 1. Data overview\n",
    " 2. Data preprocessing\n",
    " 3. Data analysis"
   ]
  },
  {
   "cell_type": "markdown",
   "id": "ac0593ac",
   "metadata": {},
   "source": [
    "## Stage 1. Data overview <a id='data_review'></a>\n",
    "\n",
    "Open and explore the data."
   ]
  },
  {
   "cell_type": "markdown",
   "id": "e86ed00e",
   "metadata": {},
   "source": [
    "You'll need `pandas`, so import it."
   ]
  },
  {
   "cell_type": "code",
   "execution_count": 79,
   "id": "1727d3f8",
   "metadata": {},
   "outputs": [],
   "source": [
    "# importing pandas\n",
    "import pandas as pd"
   ]
  },
  {
   "cell_type": "markdown",
   "id": "9821beeb",
   "metadata": {},
   "source": [
    "Read the `movies_and_shows.csv` file from the `datasets` folder and save it in the `df` variable:"
   ]
  },
  {
   "cell_type": "code",
   "execution_count": 80,
   "id": "fc5a1402",
   "metadata": {},
   "outputs": [],
   "source": [
    "# reading the files and storing them to df\n",
    "df = pd.read_csv('movies_and_shows-2.csv')"
   ]
  },
  {
   "cell_type": "markdown",
   "id": "1cd0a96d",
   "metadata": {},
   "source": [
    "Print the first 10 table rows:"
   ]
  },
  {
   "cell_type": "code",
   "execution_count": 81,
   "id": "acd92001",
   "metadata": {},
   "outputs": [
    {
     "data": {
      "text/html": [
       "<div>\n",
       "<style scoped>\n",
       "    .dataframe tbody tr th:only-of-type {\n",
       "        vertical-align: middle;\n",
       "    }\n",
       "\n",
       "    .dataframe tbody tr th {\n",
       "        vertical-align: top;\n",
       "    }\n",
       "\n",
       "    .dataframe thead th {\n",
       "        text-align: right;\n",
       "    }\n",
       "</style>\n",
       "<table border=\"1\" class=\"dataframe\">\n",
       "  <thead>\n",
       "    <tr style=\"text-align: right;\">\n",
       "      <th></th>\n",
       "      <th>name</th>\n",
       "      <th>Character</th>\n",
       "      <th>r0le</th>\n",
       "      <th>TITLE</th>\n",
       "      <th>Type</th>\n",
       "      <th>release Year</th>\n",
       "      <th>genres</th>\n",
       "      <th>imdb sc0re</th>\n",
       "      <th>imdb v0tes</th>\n",
       "    </tr>\n",
       "  </thead>\n",
       "  <tbody>\n",
       "    <tr>\n",
       "      <th>0</th>\n",
       "      <td>Robert De Niro</td>\n",
       "      <td>Travis Bickle</td>\n",
       "      <td>ACTOR</td>\n",
       "      <td>Taxi Driver</td>\n",
       "      <td>MOVIE</td>\n",
       "      <td>1976</td>\n",
       "      <td>['drama', 'crime']</td>\n",
       "      <td>8.2</td>\n",
       "      <td>808582.0</td>\n",
       "    </tr>\n",
       "    <tr>\n",
       "      <th>1</th>\n",
       "      <td>Jodie Foster</td>\n",
       "      <td>Iris Steensma</td>\n",
       "      <td>ACTOR</td>\n",
       "      <td>Taxi Driver</td>\n",
       "      <td>MOVIE</td>\n",
       "      <td>1976</td>\n",
       "      <td>['drama', 'crime']</td>\n",
       "      <td>8.2</td>\n",
       "      <td>808582.0</td>\n",
       "    </tr>\n",
       "    <tr>\n",
       "      <th>2</th>\n",
       "      <td>Albert Brooks</td>\n",
       "      <td>Tom</td>\n",
       "      <td>ACTOR</td>\n",
       "      <td>Taxi Driver</td>\n",
       "      <td>MOVIE</td>\n",
       "      <td>1976</td>\n",
       "      <td>['drama', 'crime']</td>\n",
       "      <td>8.2</td>\n",
       "      <td>808582.0</td>\n",
       "    </tr>\n",
       "    <tr>\n",
       "      <th>3</th>\n",
       "      <td>Harvey Keitel</td>\n",
       "      <td>Matthew 'Sport' Higgins</td>\n",
       "      <td>ACTOR</td>\n",
       "      <td>Taxi Driver</td>\n",
       "      <td>MOVIE</td>\n",
       "      <td>1976</td>\n",
       "      <td>['drama', 'crime']</td>\n",
       "      <td>8.2</td>\n",
       "      <td>808582.0</td>\n",
       "    </tr>\n",
       "    <tr>\n",
       "      <th>4</th>\n",
       "      <td>Cybill Shepherd</td>\n",
       "      <td>Betsy</td>\n",
       "      <td>ACTOR</td>\n",
       "      <td>Taxi Driver</td>\n",
       "      <td>MOVIE</td>\n",
       "      <td>1976</td>\n",
       "      <td>['drama', 'crime']</td>\n",
       "      <td>8.2</td>\n",
       "      <td>808582.0</td>\n",
       "    </tr>\n",
       "    <tr>\n",
       "      <th>5</th>\n",
       "      <td>Peter Boyle</td>\n",
       "      <td>Wizard</td>\n",
       "      <td>ACTOR</td>\n",
       "      <td>Taxi Driver</td>\n",
       "      <td>MOVIE</td>\n",
       "      <td>1976</td>\n",
       "      <td>['drama', 'crime']</td>\n",
       "      <td>8.2</td>\n",
       "      <td>808582.0</td>\n",
       "    </tr>\n",
       "    <tr>\n",
       "      <th>6</th>\n",
       "      <td>Leonard Harris</td>\n",
       "      <td>Senator Charles Palantine</td>\n",
       "      <td>ACTOR</td>\n",
       "      <td>Taxi Driver</td>\n",
       "      <td>MOVIE</td>\n",
       "      <td>1976</td>\n",
       "      <td>['drama', 'crime']</td>\n",
       "      <td>8.2</td>\n",
       "      <td>808582.0</td>\n",
       "    </tr>\n",
       "    <tr>\n",
       "      <th>7</th>\n",
       "      <td>Diahnne Abbott</td>\n",
       "      <td>Concession Girl</td>\n",
       "      <td>ACTOR</td>\n",
       "      <td>Taxi Driver</td>\n",
       "      <td>MOVIE</td>\n",
       "      <td>1976</td>\n",
       "      <td>['drama', 'crime']</td>\n",
       "      <td>8.2</td>\n",
       "      <td>808582.0</td>\n",
       "    </tr>\n",
       "    <tr>\n",
       "      <th>8</th>\n",
       "      <td>Gino Ardito</td>\n",
       "      <td>Policeman at Rally</td>\n",
       "      <td>ACTOR</td>\n",
       "      <td>Taxi Driver</td>\n",
       "      <td>MOVIE</td>\n",
       "      <td>1976</td>\n",
       "      <td>['drama', 'crime']</td>\n",
       "      <td>8.2</td>\n",
       "      <td>808582.0</td>\n",
       "    </tr>\n",
       "    <tr>\n",
       "      <th>9</th>\n",
       "      <td>Martin Scorsese</td>\n",
       "      <td>Passenger Watching Silhouette</td>\n",
       "      <td>ACTOR</td>\n",
       "      <td>Taxi Driver</td>\n",
       "      <td>MOVIE</td>\n",
       "      <td>1976</td>\n",
       "      <td>['drama', 'crime']</td>\n",
       "      <td>8.2</td>\n",
       "      <td>808582.0</td>\n",
       "    </tr>\n",
       "  </tbody>\n",
       "</table>\n",
       "</div>"
      ],
      "text/plain": [
       "              name                      Character   r0le        TITLE   Type  \\\n",
       "0   Robert De Niro                  Travis Bickle  ACTOR  Taxi Driver  MOVIE   \n",
       "1     Jodie Foster                  Iris Steensma  ACTOR  Taxi Driver  MOVIE   \n",
       "2    Albert Brooks                            Tom  ACTOR  Taxi Driver  MOVIE   \n",
       "3    Harvey Keitel        Matthew 'Sport' Higgins  ACTOR  Taxi Driver  MOVIE   \n",
       "4  Cybill Shepherd                          Betsy  ACTOR  Taxi Driver  MOVIE   \n",
       "5      Peter Boyle                         Wizard  ACTOR  Taxi Driver  MOVIE   \n",
       "6   Leonard Harris      Senator Charles Palantine  ACTOR  Taxi Driver  MOVIE   \n",
       "7   Diahnne Abbott                Concession Girl  ACTOR  Taxi Driver  MOVIE   \n",
       "8      Gino Ardito             Policeman at Rally  ACTOR  Taxi Driver  MOVIE   \n",
       "9  Martin Scorsese  Passenger Watching Silhouette  ACTOR  Taxi Driver  MOVIE   \n",
       "\n",
       "   release Year              genres  imdb sc0re  imdb v0tes  \n",
       "0          1976  ['drama', 'crime']         8.2    808582.0  \n",
       "1          1976  ['drama', 'crime']         8.2    808582.0  \n",
       "2          1976  ['drama', 'crime']         8.2    808582.0  \n",
       "3          1976  ['drama', 'crime']         8.2    808582.0  \n",
       "4          1976  ['drama', 'crime']         8.2    808582.0  \n",
       "5          1976  ['drama', 'crime']         8.2    808582.0  \n",
       "6          1976  ['drama', 'crime']         8.2    808582.0  \n",
       "7          1976  ['drama', 'crime']         8.2    808582.0  \n",
       "8          1976  ['drama', 'crime']         8.2    808582.0  \n",
       "9          1976  ['drama', 'crime']         8.2    808582.0  "
      ]
     },
     "execution_count": 81,
     "metadata": {},
     "output_type": "execute_result"
    }
   ],
   "source": [
    "# obtaining the first 10 rows from the df table\n",
    "# hint: you can use head() and tail() in Jupyter Notebook without wrapping them into print()\n",
    "df.head(10)"
   ]
  },
  {
   "cell_type": "markdown",
   "id": "e579aa91",
   "metadata": {},
   "source": [
    "Obtain the general information about the table with one command:"
   ]
  },
  {
   "cell_type": "code",
   "execution_count": 82,
   "id": "7bf66d2a",
   "metadata": {},
   "outputs": [
    {
     "name": "stdout",
     "output_type": "stream",
     "text": [
      "<class 'pandas.core.frame.DataFrame'>\n",
      "RangeIndex: 85579 entries, 0 to 85578\n",
      "Data columns (total 9 columns):\n",
      " #   Column        Non-Null Count  Dtype  \n",
      "---  ------        --------------  -----  \n",
      " 0      name       85579 non-null  object \n",
      " 1   Character     85579 non-null  object \n",
      " 2   r0le          85579 non-null  object \n",
      " 3   TITLE         85578 non-null  object \n",
      " 4     Type        85579 non-null  object \n",
      " 5   release Year  85579 non-null  int64  \n",
      " 6   genres        85579 non-null  object \n",
      " 7   imdb sc0re    80970 non-null  float64\n",
      " 8   imdb v0tes    80853 non-null  float64\n",
      "dtypes: float64(2), int64(1), object(6)\n",
      "memory usage: 5.9+ MB\n"
     ]
    }
   ],
   "source": [
    "# obtaining general information about the data in df\n",
    "df.info()"
   ]
  },
  {
   "cell_type": "markdown",
   "id": "e91f62a7",
   "metadata": {},
   "source": [
    "The table contains nine columns. The majority store the same data type: object. The only exceptions are `'release Year'` (int64 type), `'imdb sc0re'` (float64 type) and `'imdb v0tes'` (float64 type). Scores and votes will be used in our analysis, so it's important to verify that they are present in the dataframe in the appropriate numeric format. Three columns (`'TITLE'`, `'imdb sc0re'` and `'imdb v0tes'`) have missing values.\n",
    "\n",
    "According to the documentation:\n",
    "- `'name'` — actor/director's name and last name\n",
    "- `'Character'` — character played (for actors)\n",
    "- `'r0le '` — the person's contribution to the title (it can be in the capacity of either actor or director)\n",
    "- `'TITLE '` — title of the movie (show)\n",
    "- `'  Type'` — show or movie\n",
    "- `'release Year'` — year when movie (show) was released\n",
    "- `'genres'` — list of genres under which the movie (show) falls\n",
    "- `'imdb sc0re'` — score on IMDb\n",
    "- `'imdb v0tes'` — votes on IMDb\n",
    "\n",
    "We can see three issues with the column names:\n",
    "1. Some names are uppercase, while others are lowercase.\n",
    "2. There are names containing whitespace.\n",
    "3. A few column names have digit '0' instead of letter 'o'. \n"
   ]
  },
  {
   "cell_type": "markdown",
   "id": "4355de7b",
   "metadata": {},
   "source": [
    "### Conclusions <a id='data_review_conclusions'></a> \n",
    "\n",
    "Each row in the table stores data about a movie or show. The columns can be divided into two categories: the first is about the roles held by different people who worked on the movie or show (role, name of the actor or director, and character if the row is about an actor); the second category is information about the movie or show itself (title, release year, genre, imdb figures).\n",
    "\n",
    "It's clear that there is sufficient data to do the analysis and evaluate our assumption. However, to move forward, we need to preprocess the data."
   ]
  },
  {
   "cell_type": "markdown",
   "id": "c5dc9111",
   "metadata": {},
   "source": [
    "## Stage 2. Data preprocessing <a id='data_preprocessing'></a>\n",
    "Correct the formatting in the column headers and deal with the missing values. Then, check whether there are duplicates in the data."
   ]
  },
  {
   "cell_type": "code",
   "execution_count": 83,
   "id": "9c850d13",
   "metadata": {},
   "outputs": [
    {
     "name": "stdout",
     "output_type": "stream",
     "text": [
      "Original column names:\n",
      " Index(['   name', 'Character', 'r0le', 'TITLE', '  Type', 'release Year',\n",
      "       'genres', 'imdb sc0re', 'imdb v0tes'],\n",
      "      dtype='object')\n"
     ]
    }
   ],
   "source": [
    "# the list of column names in the df table\n",
    "columns = df.columns\n",
    "\n",
    "print(\"Original column names:\\n\", columns)"
   ]
  },
  {
   "cell_type": "markdown",
   "id": "5f966df9",
   "metadata": {},
   "source": [
    "Change the column names according to the rules of good style:\n",
    "* If the name has several words, use snake_case\n",
    "* All characters must be lowercase\n",
    "* Remove whitespace\n",
    "* Replace zero with letter 'o'"
   ]
  },
  {
   "cell_type": "code",
   "execution_count": 84,
   "id": "23a1dc11",
   "metadata": {},
   "outputs": [],
   "source": [
    "# renaming columns\n",
    "df.columns = df.columns.str.strip().str.lower().str.replace(' ', '_').str.replace('0', 'o')"
   ]
  },
  {
   "cell_type": "markdown",
   "id": "464fbd04",
   "metadata": {},
   "source": [
    "Check the result. Print the names of the columns once more:"
   ]
  },
  {
   "cell_type": "code",
   "execution_count": 85,
   "id": "0eb6527f",
   "metadata": {},
   "outputs": [
    {
     "name": "stdout",
     "output_type": "stream",
     "text": [
      "Renamed column names:\n",
      " Index(['name', 'character', 'role', 'title', 'type', 'release_year', 'genres',\n",
      "       'imdb_score', 'imdb_votes'],\n",
      "      dtype='object')\n"
     ]
    }
   ],
   "source": [
    "# checking result: the list of column names\n",
    "print(\"Renamed column names:\\n\", df.columns)"
   ]
  },
  {
   "cell_type": "markdown",
   "id": "14d9c319",
   "metadata": {},
   "source": [
    "### Missing values <a id='missing_values'></a>\n",
    "First, find the number of missing values in the table. To do so, combine two `pandas` methods:"
   ]
  },
  {
   "cell_type": "code",
   "execution_count": 86,
   "id": "21c427f2",
   "metadata": {},
   "outputs": [
    {
     "name": "stdout",
     "output_type": "stream",
     "text": [
      "Missing values in each column:\n",
      " name               0\n",
      "character          0\n",
      "role               0\n",
      "title              1\n",
      "type               0\n",
      "release_year       0\n",
      "genres             0\n",
      "imdb_score      4609\n",
      "imdb_votes      4726\n",
      "dtype: int64\n"
     ]
    }
   ],
   "source": [
    "# calculating missing values\n",
    "missing_values = df.isnull().sum()\n",
    "\n",
    "print(\"Missing values in each column:\\n\", missing_values)"
   ]
  },
  {
   "cell_type": "markdown",
   "id": "c8272df3",
   "metadata": {},
   "source": [
    "We identified missing values in several columns. While the missing value in `'title'` isn't critical, missing values in `'imdb_score'` and `'imdb_votes'` affect around 6% of the data, which could impact our analysis. To ensure data integrity, we'll drop all rows with missing values."
   ]
  },
  {
   "cell_type": "code",
   "execution_count": 87,
   "id": "599d5550",
   "metadata": {},
   "outputs": [],
   "source": [
    "# dropping rows where columns with scores, and votes have missing values\n",
    "df = df.dropna(subset=['imdb_score', 'imdb_votes'])"
   ]
  },
  {
   "cell_type": "markdown",
   "id": "2156887f",
   "metadata": {},
   "source": [
    "Make sure the table doesn't contain any more missing values. Count the missing values again."
   ]
  },
  {
   "cell_type": "code",
   "execution_count": 88,
   "id": "55c0b0ce",
   "metadata": {},
   "outputs": [
    {
     "name": "stdout",
     "output_type": "stream",
     "text": [
      "Missing values after dropping rows:\n",
      " name            0\n",
      "character       0\n",
      "role            0\n",
      "title           0\n",
      "type            0\n",
      "release_year    0\n",
      "genres          0\n",
      "imdb_score      0\n",
      "imdb_votes      0\n",
      "dtype: int64\n"
     ]
    }
   ],
   "source": [
    "# counting missing values\n",
    "missing_values_after = df.isnull().sum()\n",
    "\n",
    "print(\"Missing values after dropping rows:\\n\", missing_values_after)"
   ]
  },
  {
   "cell_type": "markdown",
   "id": "a7dc7aa0",
   "metadata": {},
   "source": [
    "### Duplicates <a id='duplicates'></a>\n",
    "Find the number of duplicate rows in the table using one command:"
   ]
  },
  {
   "cell_type": "code",
   "execution_count": 89,
   "id": "9227df01",
   "metadata": {},
   "outputs": [],
   "source": [
    "# counting duplicate rows\n",
    "duplicate_count = df.duplicated().sum()"
   ]
  },
  {
   "cell_type": "markdown",
   "id": "5f6eb0fc",
   "metadata": {},
   "source": [
    "Review the duplicate rows to determine if removing them would distort our dataset."
   ]
  },
  {
   "cell_type": "code",
   "execution_count": 90,
   "id": "bcf32fcb",
   "metadata": {},
   "outputs": [
    {
     "name": "stdout",
     "output_type": "stream",
     "text": [
      "Number of duplicate rows: 6994\n"
     ]
    }
   ],
   "source": [
    "# Produce table with duplicates (with original rows included) and review last 5 rows\n",
    "print(\"Number of duplicate rows:\", duplicate_count)"
   ]
  },
  {
   "cell_type": "markdown",
   "id": "a1ed6640",
   "metadata": {},
   "source": [
    "There are two clear duplicates in the printed rows. We can safely remove them.\n",
    "Call the `pandas` method for getting rid of duplicate rows:"
   ]
  },
  {
   "cell_type": "code",
   "execution_count": 91,
   "id": "724d5bc8",
   "metadata": {},
   "outputs": [],
   "source": [
    "# removing duplicate rows\n",
    "df = df.drop_duplicates()"
   ]
  },
  {
   "cell_type": "markdown",
   "id": "fc8c77ba",
   "metadata": {},
   "source": [
    "Check for duplicate rows once more to make sure you have removed all of them:"
   ]
  },
  {
   "cell_type": "code",
   "execution_count": 92,
   "id": "8091a9bc",
   "metadata": {},
   "outputs": [
    {
     "name": "stdout",
     "output_type": "stream",
     "text": [
      "Number of duplicate rows after removing duplicates: 0\n"
     ]
    }
   ],
   "source": [
    "# checking for duplicates\n",
    "duplicate_count_after = df.duplicated().sum()\n",
    "\n",
    "print(\"Number of duplicate rows after removing duplicates:\", duplicate_count_after)"
   ]
  },
  {
   "cell_type": "markdown",
   "id": "1d802b07",
   "metadata": {},
   "source": [
    "Now get rid of implicit duplicates in the `'type'` column. For example, the string `'SHOW'` can be written in different ways. These kinds of errors will also affect the result."
   ]
  },
  {
   "cell_type": "markdown",
   "id": "d5f987ed",
   "metadata": {},
   "source": [
    "Print a list of unique `'type'` names, sorted in alphabetical order. To do so:\n",
    "* Retrieve the intended dataframe column \n",
    "* Apply a sorting method to it\n",
    "* For the sorted column, call the method that will return all unique column values"
   ]
  },
  {
   "cell_type": "code",
   "execution_count": 93,
   "id": "3d7b0ac5",
   "metadata": {},
   "outputs": [
    {
     "name": "stdout",
     "output_type": "stream",
     "text": [
      "Unique 'type' names sorted in alphabetical order: \n",
      " ['MOVIE' 'SHOW' 'movies' 'shows' 'the movie' 'tv' 'tv series' 'tv show'\n",
      " 'tv shows']\n"
     ]
    }
   ],
   "source": [
    "# viewing unique type names\n",
    "unique_types = df['type'].sort_values().unique()\n",
    "\n",
    "print(\"Unique 'type' names sorted in alphabetical order: \\n\", unique_types)"
   ]
  },
  {
   "cell_type": "markdown",
   "id": "ac6e8b18",
   "metadata": {},
   "source": [
    "Look through the list to find implicit duplicates of `'show'` (`'movie'` duplicates will be ignored since the assumption is about shows). These could be names written incorrectly or alternative names of the same genre.\n",
    "\n",
    "You will see the following implicit duplicates:\n",
    "* `'shows'`\n",
    "* `'SHOW'`\n",
    "* `'tv show'`\n",
    "* `'tv shows'`\n",
    "* `'tv series'`\n",
    "* `'tv'`\n",
    "\n",
    "To get rid of them, declare the function `replace_wrong_show()` with two parameters: \n",
    "* `wrong_shows_list=` — the list of duplicates\n",
    "* `correct_show=` — the string with the correct value\n",
    "\n",
    "The function should correct the names in the `'type'` column from the `df` table (i.e., replace each value from the `wrong_shows_list` list with the value in `correct_show`)."
   ]
  },
  {
   "cell_type": "code",
   "execution_count": 94,
   "id": "bff944f9",
   "metadata": {},
   "outputs": [],
   "source": [
    "# function for replacing implicit duplicates\n",
    "wrong_shows_list = ['shows', 'SHOW', 'tv show', 'tv shows', 'tv series', 'tv']"
   ]
  },
  {
   "cell_type": "markdown",
   "id": "d02d13a6",
   "metadata": {},
   "source": [
    "Call `replace_wrong_show()` and pass it arguments so that it clears implicit duplicates and replaces them with `SHOW`:"
   ]
  },
  {
   "cell_type": "code",
   "execution_count": 95,
   "id": "a2217e53",
   "metadata": {},
   "outputs": [],
   "source": [
    "def replace_wrong_show(wrong_shows_list, correct_show):\n",
    "    df['type'] = df['type'].replace(wrong_shows_list, correct_show)"
   ]
  },
  {
   "cell_type": "markdown",
   "id": "318b09f7",
   "metadata": {},
   "source": [
    "Make sure the duplicate names are removed. Print the list of unique values from the `'type'` column:"
   ]
  },
  {
   "cell_type": "code",
   "execution_count": 96,
   "id": "25d49d73",
   "metadata": {},
   "outputs": [
    {
     "name": "stdout",
     "output_type": "stream",
     "text": [
      "Unique 'type' names after replacement: \n",
      " ['MOVIE' 'the movie' 'tv show' 'shows' 'movies' 'tv shows' 'tv series'\n",
      " 'tv' 'SHOW']\n"
     ]
    }
   ],
   "source": [
    "# viewing unique genre names\n",
    "unique_types_after_replacement = df['type'].unique()\n",
    "\n",
    "print(\"Unique 'type' names after replacement: \\n\", unique_types_after_replacement)"
   ]
  },
  {
   "cell_type": "markdown",
   "id": "18b2049e",
   "metadata": {},
   "source": [
    "### Conclusions <a id='data_preprocessing_conclusions'></a>\n",
    "We detected three issues with the data:\n",
    "\n",
    "- Incorrect header styles\n",
    "- Missing values\n",
    "- Duplicate rows and implicit duplicates\n",
    "\n",
    "The headers have been cleaned up to make processing the table simpler.\n",
    "\n",
    "All rows with missing values have been removed. \n",
    "\n",
    "The absence of duplicates will make the results more precise and easier to understand.\n",
    "\n",
    "Now we can move on to our analysis of the prepared data."
   ]
  },
  {
   "cell_type": "markdown",
   "id": "1aa0f1b1",
   "metadata": {},
   "source": [
    "## Stage 3. Data analysis <a id='hypotheses'></a>"
   ]
  },
  {
   "cell_type": "markdown",
   "id": "f8fb6a0e",
   "metadata": {},
   "source": [
    "Based on the previous project stages, you can now define how the assumption will be checked. Calculate the average amount of votes for each score (this data is available in the `imdb_score` and `imdb_votes` columns), and then check how these averages relate to each other. If the averages for shows with the highest scores are bigger than those for shows with lower scores, the assumption appears to be true.\n",
    "\n",
    "Based on this, complete the following steps:\n",
    "\n",
    "- Filter the dataframe to only include shows released in 1999 or later.\n",
    "- Group scores into buckets by rounding the values of the appropriate column (a set of 1-10 integers will help us make the outcome of our calculations more evident without damaging the quality of our research).\n",
    "- Identify outliers among scores based on their number of votes, and exclude scores with few votes.\n",
    "- Calculate the average votes for each score and check whether the assumption matches the results."
   ]
  },
  {
   "cell_type": "markdown",
   "id": "0ea2cb51",
   "metadata": {},
   "source": [
    "To filter the dataframe and only include shows released in 1999 or later, you will take two steps. First, keep only titles published in 1999 or later in our dataframe. Then, filter the table to only contain shows (movies will be removed)."
   ]
  },
  {
   "cell_type": "code",
   "execution_count": 97,
   "id": "6a704aa1",
   "metadata": {},
   "outputs": [
    {
     "data": {
      "text/html": [
       "<div>\n",
       "<style scoped>\n",
       "    .dataframe tbody tr th:only-of-type {\n",
       "        vertical-align: middle;\n",
       "    }\n",
       "\n",
       "    .dataframe tbody tr th {\n",
       "        vertical-align: top;\n",
       "    }\n",
       "\n",
       "    .dataframe thead th {\n",
       "        text-align: right;\n",
       "    }\n",
       "</style>\n",
       "<table border=\"1\" class=\"dataframe\">\n",
       "  <thead>\n",
       "    <tr style=\"text-align: right;\">\n",
       "      <th></th>\n",
       "      <th>name</th>\n",
       "      <th>character</th>\n",
       "      <th>role</th>\n",
       "      <th>title</th>\n",
       "      <th>type</th>\n",
       "      <th>release_year</th>\n",
       "      <th>genres</th>\n",
       "      <th>imdb_score</th>\n",
       "      <th>imdb_votes</th>\n",
       "    </tr>\n",
       "  </thead>\n",
       "  <tbody>\n",
       "    <tr>\n",
       "      <th>1664</th>\n",
       "      <td>Jeff Probst</td>\n",
       "      <td>Himself - Host</td>\n",
       "      <td>ACTOR</td>\n",
       "      <td>Survivor</td>\n",
       "      <td>tv shows</td>\n",
       "      <td>2000</td>\n",
       "      <td>['reality']</td>\n",
       "      <td>7.4</td>\n",
       "      <td>24687.0</td>\n",
       "    </tr>\n",
       "    <tr>\n",
       "      <th>1955</th>\n",
       "      <td>Benicio del Toro</td>\n",
       "      <td>Franky Four Fingers</td>\n",
       "      <td>ACTOR</td>\n",
       "      <td>Snatch</td>\n",
       "      <td>MOVIE</td>\n",
       "      <td>2000</td>\n",
       "      <td>['crime', 'comedy']</td>\n",
       "      <td>8.3</td>\n",
       "      <td>841435.0</td>\n",
       "    </tr>\n",
       "    <tr>\n",
       "      <th>1956</th>\n",
       "      <td>Dennis Farina</td>\n",
       "      <td>Cousin Avi</td>\n",
       "      <td>ACTOR</td>\n",
       "      <td>Snatch</td>\n",
       "      <td>MOVIE</td>\n",
       "      <td>2000</td>\n",
       "      <td>['crime', 'comedy']</td>\n",
       "      <td>8.3</td>\n",
       "      <td>841435.0</td>\n",
       "    </tr>\n",
       "    <tr>\n",
       "      <th>1957</th>\n",
       "      <td>Vinnie Jones</td>\n",
       "      <td>Bullet Tooth Tony</td>\n",
       "      <td>ACTOR</td>\n",
       "      <td>Snatch</td>\n",
       "      <td>MOVIE</td>\n",
       "      <td>2000</td>\n",
       "      <td>['crime', 'comedy']</td>\n",
       "      <td>8.3</td>\n",
       "      <td>841435.0</td>\n",
       "    </tr>\n",
       "    <tr>\n",
       "      <th>1958</th>\n",
       "      <td>Brad Pitt</td>\n",
       "      <td>Mickey O'Neil</td>\n",
       "      <td>ACTOR</td>\n",
       "      <td>Snatch</td>\n",
       "      <td>MOVIE</td>\n",
       "      <td>2000</td>\n",
       "      <td>['crime', 'comedy']</td>\n",
       "      <td>8.3</td>\n",
       "      <td>841435.0</td>\n",
       "    </tr>\n",
       "  </tbody>\n",
       "</table>\n",
       "</div>"
      ],
      "text/plain": [
       "                  name            character   role     title      type  \\\n",
       "1664       Jeff Probst       Himself - Host  ACTOR  Survivor  tv shows   \n",
       "1955  Benicio del Toro  Franky Four Fingers  ACTOR    Snatch     MOVIE   \n",
       "1956     Dennis Farina           Cousin Avi  ACTOR    Snatch     MOVIE   \n",
       "1957      Vinnie Jones    Bullet Tooth Tony  ACTOR    Snatch     MOVIE   \n",
       "1958         Brad Pitt        Mickey O'Neil  ACTOR    Snatch     MOVIE   \n",
       "\n",
       "      release_year               genres  imdb_score  imdb_votes  \n",
       "1664          2000          ['reality']         7.4     24687.0  \n",
       "1955          2000  ['crime', 'comedy']         8.3    841435.0  \n",
       "1956          2000  ['crime', 'comedy']         8.3    841435.0  \n",
       "1957          2000  ['crime', 'comedy']         8.3    841435.0  \n",
       "1958          2000  ['crime', 'comedy']         8.3    841435.0  "
      ]
     },
     "execution_count": 97,
     "metadata": {},
     "output_type": "execute_result"
    }
   ],
   "source": [
    "# using conditional indexing modify df so it has only titles released after 1999 (with 1999 included)\n",
    "# give the slice of dataframe new name\n",
    "titles_after_1999 = df[df['release_year'] >= 1999]\n",
    "titles_after_1999.head()"
   ]
  },
  {
   "cell_type": "code",
   "execution_count": 106,
   "id": "128dc6a9",
   "metadata": {
    "scrolled": true
   },
   "outputs": [
    {
     "data": {
      "text/html": [
       "<div>\n",
       "<style scoped>\n",
       "    .dataframe tbody tr th:only-of-type {\n",
       "        vertical-align: middle;\n",
       "    }\n",
       "\n",
       "    .dataframe tbody tr th {\n",
       "        vertical-align: top;\n",
       "    }\n",
       "\n",
       "    .dataframe thead th {\n",
       "        text-align: right;\n",
       "    }\n",
       "</style>\n",
       "<table border=\"1\" class=\"dataframe\">\n",
       "  <thead>\n",
       "    <tr style=\"text-align: right;\">\n",
       "      <th></th>\n",
       "      <th>name</th>\n",
       "      <th>character</th>\n",
       "      <th>role</th>\n",
       "      <th>title</th>\n",
       "      <th>type</th>\n",
       "      <th>release_year</th>\n",
       "      <th>genres</th>\n",
       "      <th>imdb_score</th>\n",
       "      <th>imdb_votes</th>\n",
       "    </tr>\n",
       "  </thead>\n",
       "  <tbody>\n",
       "    <tr>\n",
       "      <th>163</th>\n",
       "      <td>Graham Chapman</td>\n",
       "      <td>Various</td>\n",
       "      <td>ACTOR</td>\n",
       "      <td>Monty Python's Flying Circus</td>\n",
       "      <td>SHOW</td>\n",
       "      <td>1969</td>\n",
       "      <td>['comedy', 'european']</td>\n",
       "      <td>8.8</td>\n",
       "      <td>73424.0</td>\n",
       "    </tr>\n",
       "    <tr>\n",
       "      <th>164</th>\n",
       "      <td>Michael Palin</td>\n",
       "      <td>Various / \"It's\" man</td>\n",
       "      <td>ACTOR</td>\n",
       "      <td>Monty Python's Flying Circus</td>\n",
       "      <td>SHOW</td>\n",
       "      <td>1969</td>\n",
       "      <td>['comedy', 'european']</td>\n",
       "      <td>8.8</td>\n",
       "      <td>73424.0</td>\n",
       "    </tr>\n",
       "    <tr>\n",
       "      <th>165</th>\n",
       "      <td>Terry Jones</td>\n",
       "      <td>Various</td>\n",
       "      <td>ACTOR</td>\n",
       "      <td>Monty Python's Flying Circus</td>\n",
       "      <td>SHOW</td>\n",
       "      <td>1969</td>\n",
       "      <td>['comedy', 'european']</td>\n",
       "      <td>8.8</td>\n",
       "      <td>73424.0</td>\n",
       "    </tr>\n",
       "    <tr>\n",
       "      <th>166</th>\n",
       "      <td>Eric Idle</td>\n",
       "      <td>Various</td>\n",
       "      <td>ACTOR</td>\n",
       "      <td>Monty Python's Flying Circus</td>\n",
       "      <td>SHOW</td>\n",
       "      <td>1969</td>\n",
       "      <td>['comedy', 'european']</td>\n",
       "      <td>8.8</td>\n",
       "      <td>73424.0</td>\n",
       "    </tr>\n",
       "    <tr>\n",
       "      <th>167</th>\n",
       "      <td>Terry Gilliam</td>\n",
       "      <td>Various</td>\n",
       "      <td>ACTOR</td>\n",
       "      <td>Monty Python's Flying Circus</td>\n",
       "      <td>SHOW</td>\n",
       "      <td>1969</td>\n",
       "      <td>['comedy', 'european']</td>\n",
       "      <td>8.8</td>\n",
       "      <td>73424.0</td>\n",
       "    </tr>\n",
       "  </tbody>\n",
       "</table>\n",
       "</div>"
      ],
      "text/plain": [
       "               name             character   role  \\\n",
       "163  Graham Chapman               Various  ACTOR   \n",
       "164   Michael Palin  Various / \"It's\" man  ACTOR   \n",
       "165     Terry Jones               Various  ACTOR   \n",
       "166       Eric Idle               Various  ACTOR   \n",
       "167   Terry Gilliam               Various  ACTOR   \n",
       "\n",
       "                            title  type  release_year                  genres  \\\n",
       "163  Monty Python's Flying Circus  SHOW          1969  ['comedy', 'european']   \n",
       "164  Monty Python's Flying Circus  SHOW          1969  ['comedy', 'european']   \n",
       "165  Monty Python's Flying Circus  SHOW          1969  ['comedy', 'european']   \n",
       "166  Monty Python's Flying Circus  SHOW          1969  ['comedy', 'european']   \n",
       "167  Monty Python's Flying Circus  SHOW          1969  ['comedy', 'european']   \n",
       "\n",
       "     imdb_score  imdb_votes  \n",
       "163         8.8     73424.0  \n",
       "164         8.8     73424.0  \n",
       "165         8.8     73424.0  \n",
       "166         8.8     73424.0  \n",
       "167         8.8     73424.0  "
      ]
     },
     "execution_count": 106,
     "metadata": {},
     "output_type": "execute_result"
    }
   ],
   "source": [
    "# Filter the DataFrame to only include shows\n",
    "df_shows = df[df['type'].str.lower() == 'show'].copy()\n",
    "\n",
    "# Define the function to replace implicit duplicates in the 'type' column\n",
    "def replace_implicit_duplicates(df, column_name, correct_value, wrong_values):    \n",
    "    df.loc[:, column_name] = df[column_name].replace(wrong_values, correct_value)\n",
    "    return df\n",
    "\n",
    "wrong_shows_list = ['tv show', 'television show', 'series'] \n",
    "df_shows = replace_implicit_duplicates(df_shows, 'type', 'show', wrong_shows_list)\n",
    "\n",
    "# Display the first 5 rows of the filtered DataFrame\n",
    "df_shows.head()"
   ]
  },
  {
   "cell_type": "markdown",
   "id": "632e7073",
   "metadata": {},
   "source": [
    "Change the column names according to the rules of good style:\n",
    "* If the name has several words, use snake_case\n",
    "* All characters must be lowercase\n",
    "* Remove whitespace\n",
    "* Replace zero with letter 'o'"
   ]
  },
  {
   "cell_type": "markdown",
   "id": "e05093ba",
   "metadata": {},
   "source": [
    "Change the column names according to the rules of good style:\n",
    "* If the name has several words, use snake_case\n",
    "* All characters must be lowercase\n",
    "* Remove whitespace\n",
    "* Replace zero with letter 'o'"
   ]
  },
  {
   "cell_type": "markdown",
   "id": "79ef49c1",
   "metadata": {},
   "source": [
    "Change the column names according to the rules of good style:\n",
    "* If the name has several words, use snake_case\n",
    "* All characters must be lowercase\n",
    "* Remove whitespace\n",
    "* Replace zero with letter 'o'"
   ]
  },
  {
   "cell_type": "markdown",
   "id": "d5c0e206",
   "metadata": {},
   "source": [
    "Change the column names according to the rules of good style:\n",
    "* If the name has several words, use snake_case\n",
    "* All characters must be lowercase\n",
    "* Remove whitespace\n",
    "* Replace zero with letter 'o'"
   ]
  },
  {
   "cell_type": "markdown",
   "metadata": {},
   "source": [
    "Change the column names according to the rules of good style:\n",
    "* If the name has several words, use snake_case\n",
    "* All characters must be lowercase\n",
    "* Remove whitespace\n",
    "* Replace zero with letter 'o'"
   ]
  },
  {
   "cell_type": "markdown",
   "id": "5c7e57c3",
   "metadata": {},
   "source": [
    "Change the column names according to the rules of good style:\n",
    "* If the name has several words, use snake_case\n",
    "* All characters must be lowercase\n",
    "* Remove whitespace\n",
    "* Replace zero with letter 'o'"
   ]
  },
  {
   "cell_type": "markdown",
   "id": "5e7b4169",
   "metadata": {},
   "source": [
    "Change the column names according to the rules of good style:\n",
    "* If the name has several words, use snake_case\n",
    "* All characters must be lowercase\n",
    "* Remove whitespace\n",
    "* Replace zero with letter 'o'"
   ]
  },
  {
   "cell_type": "markdown",
   "id": "9648040c",
   "metadata": {},
   "source": [
    "The scores that are to be grouped should be rounded. For instance, titles with scores like 7.8, 8.1, and 8.3 will all be placed in the same bucket with a score of 8."
   ]
  },
  {
   "cell_type": "code",
   "execution_count": 99,
   "id": "54bbd5c0",
   "metadata": {},
   "outputs": [
    {
     "data": {
      "text/html": [
       "<div>\n",
       "<style scoped>\n",
       "    .dataframe tbody tr th:only-of-type {\n",
       "        vertical-align: middle;\n",
       "    }\n",
       "\n",
       "    .dataframe tbody tr th {\n",
       "        vertical-align: top;\n",
       "    }\n",
       "\n",
       "    .dataframe thead th {\n",
       "        text-align: right;\n",
       "    }\n",
       "</style>\n",
       "<table border=\"1\" class=\"dataframe\">\n",
       "  <thead>\n",
       "    <tr style=\"text-align: right;\">\n",
       "      <th></th>\n",
       "      <th>name</th>\n",
       "      <th>character</th>\n",
       "      <th>role</th>\n",
       "      <th>title</th>\n",
       "      <th>type</th>\n",
       "      <th>release_year</th>\n",
       "      <th>genres</th>\n",
       "      <th>imdb_score</th>\n",
       "      <th>imdb_votes</th>\n",
       "    </tr>\n",
       "  </thead>\n",
       "  <tbody>\n",
       "    <tr>\n",
       "      <th>85433</th>\n",
       "      <td>Maneerat Kam-Uan</td>\n",
       "      <td>Ae</td>\n",
       "      <td>ACTOR</td>\n",
       "      <td>Let's Eat</td>\n",
       "      <td>SHOW</td>\n",
       "      <td>2021</td>\n",
       "      <td>['drama', 'comedy']</td>\n",
       "      <td>8.0</td>\n",
       "      <td>5.0</td>\n",
       "    </tr>\n",
       "    <tr>\n",
       "      <th>85434</th>\n",
       "      <td>Rudklao Amratisha</td>\n",
       "      <td>unknown</td>\n",
       "      <td>ACTOR</td>\n",
       "      <td>Let's Eat</td>\n",
       "      <td>SHOW</td>\n",
       "      <td>2021</td>\n",
       "      <td>['drama', 'comedy']</td>\n",
       "      <td>8.0</td>\n",
       "      <td>5.0</td>\n",
       "    </tr>\n",
       "    <tr>\n",
       "      <th>85435</th>\n",
       "      <td>Jaturong Mokjok</td>\n",
       "      <td>unknown</td>\n",
       "      <td>ACTOR</td>\n",
       "      <td>Let's Eat</td>\n",
       "      <td>SHOW</td>\n",
       "      <td>2021</td>\n",
       "      <td>['drama', 'comedy']</td>\n",
       "      <td>8.0</td>\n",
       "      <td>5.0</td>\n",
       "    </tr>\n",
       "    <tr>\n",
       "      <th>85436</th>\n",
       "      <td>Pisamai Wilaisak</td>\n",
       "      <td>unknown</td>\n",
       "      <td>ACTOR</td>\n",
       "      <td>Let's Eat</td>\n",
       "      <td>SHOW</td>\n",
       "      <td>2021</td>\n",
       "      <td>['drama', 'comedy']</td>\n",
       "      <td>8.0</td>\n",
       "      <td>5.0</td>\n",
       "    </tr>\n",
       "    <tr>\n",
       "      <th>85437</th>\n",
       "      <td>Sarawut Wichiensarn</td>\n",
       "      <td>unknown</td>\n",
       "      <td>DIRECTOR</td>\n",
       "      <td>Let's Eat</td>\n",
       "      <td>SHOW</td>\n",
       "      <td>2021</td>\n",
       "      <td>['drama', 'comedy']</td>\n",
       "      <td>8.0</td>\n",
       "      <td>5.0</td>\n",
       "    </tr>\n",
       "  </tbody>\n",
       "</table>\n",
       "</div>"
      ],
      "text/plain": [
       "                      name character      role      title  type  release_year  \\\n",
       "85433     Maneerat Kam-Uan        Ae     ACTOR  Let's Eat  SHOW          2021   \n",
       "85434    Rudklao Amratisha   unknown     ACTOR  Let's Eat  SHOW          2021   \n",
       "85435      Jaturong Mokjok   unknown     ACTOR  Let's Eat  SHOW          2021   \n",
       "85436     Pisamai Wilaisak   unknown     ACTOR  Let's Eat  SHOW          2021   \n",
       "85437  Sarawut Wichiensarn   unknown  DIRECTOR  Let's Eat  SHOW          2021   \n",
       "\n",
       "                    genres  imdb_score  imdb_votes  \n",
       "85433  ['drama', 'comedy']         8.0         5.0  \n",
       "85434  ['drama', 'comedy']         8.0         5.0  \n",
       "85435  ['drama', 'comedy']         8.0         5.0  \n",
       "85436  ['drama', 'comedy']         8.0         5.0  \n",
       "85437  ['drama', 'comedy']         8.0         5.0  "
      ]
     },
     "execution_count": 99,
     "metadata": {},
     "output_type": "execute_result"
    }
   ],
   "source": [
    "# rounding column with scores\n",
    "#checking the outcome with tail()\n",
    "shows_df = df[df['type'] == 'SHOW'].copy()\n",
    "shows_df['imdb_score'] = shows_df['imdb_score'].round()\n",
    "shows_df.tail()"
   ]
  },
  {
   "cell_type": "markdown",
   "id": "d68a8fdc",
   "metadata": {},
   "source": [
    "Change the column names according to the rules of good style:\n",
    "* If the name has several words, use snake_case\n",
    "* All characters must be lowercase\n",
    "* Remove whitespace\n",
    "* Replace zero with letter 'o'"
   ]
  },
  {
   "cell_type": "markdown",
   "id": "dcde6a39",
   "metadata": {},
   "source": [
    "Change the column names according to the rules of good style:\n",
    "* If the name has several words, use snake_case\n",
    "* All characters must be lowercase\n",
    "* Remove whitespace\n",
    "* Replace zero with letter 'o'"
   ]
  },
  {
   "cell_type": "markdown",
   "id": "5642772e",
   "metadata": {},
   "source": [
    "Change the column names according to the rules of good style:\n",
    "* If the name has several words, use snake_case\n",
    "* All characters must be lowercase\n",
    "* Remove whitespace\n",
    "* Replace zero with letter 'o'"
   ]
  },
  {
   "cell_type": "markdown",
   "id": "3923fe49",
   "metadata": {},
   "source": [
    "Change the column names according to the rules of good style:\n",
    "* If the name has several words, use snake_case\n",
    "* All characters must be lowercase\n",
    "* Remove whitespace\n",
    "* Replace zero with letter 'o'"
   ]
  },
  {
   "cell_type": "markdown",
   "id": "af30e9aa",
   "metadata": {},
   "source": [
    "Change the column names according to the rules of good style:\n",
    "* If the name has several words, use snake_case\n",
    "* All characters must be lowercase\n",
    "* Remove whitespace\n",
    "* Replace zero with letter 'o'"
   ]
  },
  {
   "cell_type": "markdown",
   "metadata": {},
   "source": [
    "Change the column names according to the rules of good style:\n",
    "* If the name has several words, use snake_case\n",
    "* All characters must be lowercase\n",
    "* Remove whitespace\n",
    "* Replace zero with letter 'o'"
   ]
  },
  {
   "cell_type": "markdown",
   "id": "36dbd00a",
   "metadata": {},
   "source": [
    "It is now time to identify outliers based on the number of votes."
   ]
  },
  {
   "cell_type": "code",
   "execution_count": 100,
   "id": "b8b55e95",
   "metadata": {},
   "outputs": [
    {
     "name": "stdout",
     "output_type": "stream",
     "text": [
      "   imdb_score  unique_vote_count\n",
      "0         2.0                  5\n",
      "1         3.0                  4\n",
      "2         4.0                 32\n",
      "3         5.0                 91\n",
      "4         6.0                336\n",
      "5         7.0                575\n",
      "6         8.0                537\n",
      "7         9.0                 68\n",
      "8        10.0                  1\n"
     ]
    }
   ],
   "source": [
    "# Use groupby() for scores and count all unique values in each group, print the result\n",
    "\n",
    "score_vote_counts = shows_df.groupby('imdb_score')['imdb_votes'].nunique().reset_index()\n",
    "\n",
    "# Rename the columns for clarity\n",
    "score_vote_counts.columns = ['imdb_score', 'unique_vote_count']\n",
    "\n",
    "# Print the result to identify outliers\n",
    "print(score_vote_counts)"
   ]
  },
  {
   "cell_type": "markdown",
   "id": "1ba6daae",
   "metadata": {},
   "source": [
    "Based on the aggregation performed, it is evident that scores 2 (24 voted shows), 3 (27 voted shows), and 10 (only 8 voted shows) are outliers. There isn't enough data for these scores for the average number of votes to be meaningful."
   ]
  },
  {
   "cell_type": "markdown",
   "id": "bd468c46",
   "metadata": {},
   "source": [
    "To obtain the mean numbers of votes for the selected scores (we identified a range of 4-9 as acceptable), use conditional filtering and grouping."
   ]
  },
  {
   "cell_type": "code",
   "execution_count": 101,
   "id": "d1867e0e",
   "metadata": {},
   "outputs": [
    {
     "name": "stdout",
     "output_type": "stream",
     "text": [
      "   imdb_score  average_vote_count\n",
      "0         4.0         5562.600000\n",
      "1         5.0         3143.942568\n",
      "2         6.0         3566.232586\n",
      "3         7.0         8790.115514\n",
      "4         8.0        30214.953294\n",
      "5         9.0       127631.222807\n"
     ]
    }
   ],
   "source": [
    "# Filter the DataFrame for scores in the range 4-9\n",
    "filtered_shows_df = shows_df[(shows_df['imdb_score'] >= 4) & (shows_df['imdb_score'] <= 9)]\n",
    "\n",
    "# Group by 'imdb_score' and calculate the mean of 'imdb_votes'\n",
    "mean_votes_per_score = filtered_shows_df.groupby('imdb_score')['imdb_votes'].mean().reset_index()\n",
    "\n",
    "# Rename the columns for clarity\n",
    "mean_votes_per_score.columns = ['imdb_score', 'average_vote_count']\n",
    "\n",
    "# Print the result\n",
    "print(mean_votes_per_score)\n"
   ]
  },
  {
   "cell_type": "markdown",
   "id": "96a66d14",
   "metadata": {},
   "source": [
    "Now for the final step! Round the column with the averages, rename both columns, and print the dataframe in descending order."
   ]
  },
  {
   "cell_type": "code",
   "execution_count": 102,
   "id": "5999051b",
   "metadata": {},
   "outputs": [
    {
     "name": "stdout",
     "output_type": "stream",
     "text": [
      "   imdb_score  rounded_average_vote_count\n",
      "5         9.0                    127631.0\n",
      "4         8.0                     30215.0\n",
      "3         7.0                      8790.0\n",
      "0         4.0                      5563.0\n",
      "2         6.0                      3566.0\n",
      "1         5.0                      3144.0\n"
     ]
    }
   ],
   "source": [
    "# Round the 'average_vote_count' column\n",
    "mean_votes_per_score['average_vote_count'] = mean_votes_per_score['average_vote_count'].round()\n",
    "\n",
    "# Rename the columns for clarity\n",
    "mean_votes_per_score.columns = ['imdb_score', 'rounded_average_vote_count']\n",
    "\n",
    "# Sort the DataFrame by 'rounded_average_vote_count' in descending order\n",
    "sorted_mean_votes_per_score = mean_votes_per_score.sort_values(by='rounded_average_vote_count', ascending=False)\n",
    "\n",
    "# Print the sorted DataFrame\n",
    "print(sorted_mean_votes_per_score)"
   ]
  },
  {
   "cell_type": "markdown",
   "id": "af07386d",
   "metadata": {},
   "source": [
    "The assumption macthes the analysis: the shows with the top 3 scores have the most amounts of votes."
   ]
  },
  {
   "cell_type": "markdown",
   "id": "84e29a37",
   "metadata": {},
   "source": [
    "## Conclusion <a id='hypotheses'></a>"
   ]
  },
  {
   "cell_type": "markdown",
   "id": "984766a3",
   "metadata": {},
   "source": [
    "The research done confirms that highly-rated shows released during the \"Golden Age\" of television also have the most votes. While shows with score 4 have more votes than ones with scores 5 and 6, the top three (scores 7-9) have the largest number. The data studied represents around 94% of the original set, so we can be confident in our findings."
   ]
  }
 ],
 "metadata": {
  "kernelspec": {
   "display_name": "Python 3",
   "language": "python",
   "name": "python3"
  },
  "language_info": {
   "codemirror_mode": {
    "name": "ipython",
    "version": 3
   },
   "file_extension": ".py",
   "mimetype": "text/x-python",
   "name": "python",
   "nbconvert_exporter": "python",
   "pygments_lexer": "ipython3",
   "version": "3.12.6"
  },
  "toc": {
   "base_numbering": 1,
   "nav_menu": {},
   "number_sections": true,
   "sideBar": true,
   "skip_h1_title": true,
   "title_cell": "Table of Contents",
   "title_sidebar": "Contents",
   "toc_cell": false,
   "toc_position": {},
   "toc_section_display": true,
   "toc_window_display": false
  }
 },
 "nbformat": 4,
 "nbformat_minor": 5
}
